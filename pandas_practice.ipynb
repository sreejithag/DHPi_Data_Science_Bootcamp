{
  "nbformat": 4,
  "nbformat_minor": 0,
  "metadata": {
    "colab": {
      "name": "pandas_practice.ipynb",
      "provenance": [],
      "mount_file_id": "1vTly-IODbU7vCvxtlnj8shvYRN5Frg4f",
      "authorship_tag": "ABX9TyP4qUIlsUPn0tY9y/Et7ZJq",
      "include_colab_link": true
    },
    "kernelspec": {
      "name": "python3",
      "display_name": "Python 3"
    }
  },
  "cells": [
    {
      "cell_type": "markdown",
      "metadata": {
        "id": "view-in-github",
        "colab_type": "text"
      },
      "source": [
        "<a href=\"https://colab.research.google.com/github/sreejithag/DHPi_Data_Science_Bootcamp/blob/master/pandas_practice.ipynb\" target=\"_parent\"><img src=\"https://colab.research.google.com/assets/colab-badge.svg\" alt=\"Open In Colab\"/></a>"
      ]
    },
    {
      "cell_type": "markdown",
      "metadata": {
        "id": "q4vQa0W8rw-v",
        "colab_type": "text"
      },
      "source": [
        "*Importing pandas*"
      ]
    },
    {
      "cell_type": "code",
      "metadata": {
        "id": "Oq9obhW3r2ic",
        "colab_type": "code",
        "colab": {}
      },
      "source": [
        "import pandas as pd"
      ],
      "execution_count": 0,
      "outputs": []
    },
    {
      "cell_type": "markdown",
      "metadata": {
        "id": "QBhPuvz7r6nO",
        "colab_type": "text"
      },
      "source": [
        "*pandas Series and dataframes*"
      ]
    },
    {
      "cell_type": "code",
      "metadata": {
        "id": "sxMiCLM-sD5l",
        "colab_type": "code",
        "colab": {
          "base_uri": "https://localhost:8080/",
          "height": 218
        },
        "outputId": "391d1a08-a13e-404e-da7f-32eacd9e8732"
      },
      "source": [
        "fruitsName = ['apple','orange','grape']\n",
        "price = [100,40,50]\n",
        "\n",
        "#series\n",
        "print(\"Series\")\n",
        "fruitSeries = pd.Series(fruitsName)\n",
        "print(fruitSeries)\n",
        "\n",
        "#dataframe\n",
        "print(\"\\n\\nDataFrame\")\n",
        "fruitDF = pd.DataFrame({\"fruit\":fruitsName,\"price\":price})\n",
        "print(fruitDF)"
      ],
      "execution_count": 10,
      "outputs": [
        {
          "output_type": "stream",
          "text": [
            "Series\n",
            "0     apple\n",
            "1    orange\n",
            "2     grape\n",
            "dtype: object\n",
            "\n",
            "\n",
            "DataFrame\n",
            "    fruit  price\n",
            "0   apple    100\n",
            "1  orange     40\n",
            "2   grape     50\n"
          ],
          "name": "stdout"
        }
      ]
    },
    {
      "cell_type": "markdown",
      "metadata": {
        "id": "pewo7fMjwicC",
        "colab_type": "text"
      },
      "source": [
        "Custom indexes"
      ]
    },
    {
      "cell_type": "code",
      "metadata": {
        "id": "lHcAbDJdv9Fb",
        "colab_type": "code",
        "colab": {
          "base_uri": "https://localhost:8080/",
          "height": 166
        },
        "outputId": "906bed10-83ff-4172-a2e5-d19cb196b0a1"
      },
      "source": [
        "data = {\n",
        "    'apples': [3, 2, 0, 1], \n",
        "    'oranges': [0, 3, 7, 2]\n",
        "}\n",
        "\n",
        "purchases = pd.DataFrame(data, index=['June', 'Robert', 'Lily', 'David'])\n",
        "purchases\n"
      ],
      "execution_count": 12,
      "outputs": [
        {
          "output_type": "execute_result",
          "data": {
            "text/html": [
              "<div>\n",
              "<style scoped>\n",
              "    .dataframe tbody tr th:only-of-type {\n",
              "        vertical-align: middle;\n",
              "    }\n",
              "\n",
              "    .dataframe tbody tr th {\n",
              "        vertical-align: top;\n",
              "    }\n",
              "\n",
              "    .dataframe thead th {\n",
              "        text-align: right;\n",
              "    }\n",
              "</style>\n",
              "<table border=\"1\" class=\"dataframe\">\n",
              "  <thead>\n",
              "    <tr style=\"text-align: right;\">\n",
              "      <th></th>\n",
              "      <th>apples</th>\n",
              "      <th>oranges</th>\n",
              "    </tr>\n",
              "  </thead>\n",
              "  <tbody>\n",
              "    <tr>\n",
              "      <th>June</th>\n",
              "      <td>3</td>\n",
              "      <td>0</td>\n",
              "    </tr>\n",
              "    <tr>\n",
              "      <th>Robert</th>\n",
              "      <td>2</td>\n",
              "      <td>3</td>\n",
              "    </tr>\n",
              "    <tr>\n",
              "      <th>Lily</th>\n",
              "      <td>0</td>\n",
              "      <td>7</td>\n",
              "    </tr>\n",
              "    <tr>\n",
              "      <th>David</th>\n",
              "      <td>1</td>\n",
              "      <td>2</td>\n",
              "    </tr>\n",
              "  </tbody>\n",
              "</table>\n",
              "</div>"
            ],
            "text/plain": [
              "        apples  oranges\n",
              "June         3        0\n",
              "Robert       2        3\n",
              "Lily         0        7\n",
              "David        1        2"
            ]
          },
          "metadata": {
            "tags": []
          },
          "execution_count": 12
        }
      ]
    },
    {
      "cell_type": "markdown",
      "metadata": {
        "id": "uuAfrCo8ymZe",
        "colab_type": "text"
      },
      "source": [
        "acessing using inedex"
      ]
    },
    {
      "cell_type": "code",
      "metadata": {
        "id": "EXwIyCP4yrGq",
        "colab_type": "code",
        "colab": {
          "base_uri": "https://localhost:8080/",
          "height": 67
        },
        "outputId": "1a692b57-197b-4fd5-bd99-af342e698da0"
      },
      "source": [
        "purchases.loc['Robert']"
      ],
      "execution_count": 14,
      "outputs": [
        {
          "output_type": "execute_result",
          "data": {
            "text/plain": [
              "apples     2\n",
              "oranges    3\n",
              "Name: Robert, dtype: int64"
            ]
          },
          "metadata": {
            "tags": []
          },
          "execution_count": 14
        }
      ]
    },
    {
      "cell_type": "markdown",
      "metadata": {
        "id": "AhtXwsnry_7x",
        "colab_type": "text"
      },
      "source": [
        "reading data from csv"
      ]
    },
    {
      "cell_type": "code",
      "metadata": {
        "id": "dsZS4RejzCy2",
        "colab_type": "code",
        "colab": {
          "base_uri": "https://localhost:8080/",
          "height": 402
        },
        "outputId": "7b4ef45f-729b-4f22-b18d-4476dfa133d8"
      },
      "source": [
        "df = pd.read_csv('/content/drive/My Drive/UNdata_Export_20200605_104722418.csv')\n",
        "df"
      ],
      "execution_count": 18,
      "outputs": [
        {
          "output_type": "execute_result",
          "data": {
            "text/html": [
              "<div>\n",
              "<style scoped>\n",
              "    .dataframe tbody tr th:only-of-type {\n",
              "        vertical-align: middle;\n",
              "    }\n",
              "\n",
              "    .dataframe tbody tr th {\n",
              "        vertical-align: top;\n",
              "    }\n",
              "\n",
              "    .dataframe thead th {\n",
              "        text-align: right;\n",
              "    }\n",
              "</style>\n",
              "<table border=\"1\" class=\"dataframe\">\n",
              "  <thead>\n",
              "    <tr style=\"text-align: right;\">\n",
              "      <th></th>\n",
              "      <th>Country or Area</th>\n",
              "      <th>Year</th>\n",
              "      <th>Value</th>\n",
              "    </tr>\n",
              "  </thead>\n",
              "  <tbody>\n",
              "    <tr>\n",
              "      <th>0</th>\n",
              "      <td>Australia</td>\n",
              "      <td>2017</td>\n",
              "      <td>5.541266e+05</td>\n",
              "    </tr>\n",
              "    <tr>\n",
              "      <th>1</th>\n",
              "      <td>Australia</td>\n",
              "      <td>2016</td>\n",
              "      <td>5.467718e+05</td>\n",
              "    </tr>\n",
              "    <tr>\n",
              "      <th>2</th>\n",
              "      <td>Australia</td>\n",
              "      <td>2015</td>\n",
              "      <td>5.351737e+05</td>\n",
              "    </tr>\n",
              "    <tr>\n",
              "      <th>3</th>\n",
              "      <td>Australia</td>\n",
              "      <td>2014</td>\n",
              "      <td>5.249571e+05</td>\n",
              "    </tr>\n",
              "    <tr>\n",
              "      <th>4</th>\n",
              "      <td>Australia</td>\n",
              "      <td>2013</td>\n",
              "      <td>5.304335e+05</td>\n",
              "    </tr>\n",
              "    <tr>\n",
              "      <th>...</th>\n",
              "      <td>...</td>\n",
              "      <td>...</td>\n",
              "      <td>...</td>\n",
              "    </tr>\n",
              "    <tr>\n",
              "      <th>1199</th>\n",
              "      <td>United States of America</td>\n",
              "      <td>1994</td>\n",
              "      <td>6.624836e+06</td>\n",
              "    </tr>\n",
              "    <tr>\n",
              "      <th>1200</th>\n",
              "      <td>United States of America</td>\n",
              "      <td>1993</td>\n",
              "      <td>6.532070e+06</td>\n",
              "    </tr>\n",
              "    <tr>\n",
              "      <th>1201</th>\n",
              "      <td>United States of America</td>\n",
              "      <td>1992</td>\n",
              "      <td>6.424934e+06</td>\n",
              "    </tr>\n",
              "    <tr>\n",
              "      <th>1202</th>\n",
              "      <td>United States of America</td>\n",
              "      <td>1991</td>\n",
              "      <td>6.315615e+06</td>\n",
              "    </tr>\n",
              "    <tr>\n",
              "      <th>1203</th>\n",
              "      <td>United States of America</td>\n",
              "      <td>1990</td>\n",
              "      <td>6.371001e+06</td>\n",
              "    </tr>\n",
              "  </tbody>\n",
              "</table>\n",
              "<p>1204 rows × 3 columns</p>\n",
              "</div>"
            ],
            "text/plain": [
              "               Country or Area  Year         Value\n",
              "0                    Australia  2017  5.541266e+05\n",
              "1                    Australia  2016  5.467718e+05\n",
              "2                    Australia  2015  5.351737e+05\n",
              "3                    Australia  2014  5.249571e+05\n",
              "4                    Australia  2013  5.304335e+05\n",
              "...                        ...   ...           ...\n",
              "1199  United States of America  1994  6.624836e+06\n",
              "1200  United States of America  1993  6.532070e+06\n",
              "1201  United States of America  1992  6.424934e+06\n",
              "1202  United States of America  1991  6.315615e+06\n",
              "1203  United States of America  1990  6.371001e+06\n",
              "\n",
              "[1204 rows x 3 columns]"
            ]
          },
          "metadata": {
            "tags": []
          },
          "execution_count": 18
        }
      ]
    },
    {
      "cell_type": "markdown",
      "metadata": {
        "id": "YwwdKiDF093j",
        "colab_type": "text"
      },
      "source": [
        "converting DataFrame to csv"
      ]
    },
    {
      "cell_type": "code",
      "metadata": {
        "id": "LG0ubiTa1BuU",
        "colab_type": "code",
        "colab": {}
      },
      "source": [
        "df.to_csv('test1.csv')"
      ],
      "execution_count": 0,
      "outputs": []
    },
    {
      "cell_type": "markdown",
      "metadata": {
        "id": "fUySq55n1jBH",
        "colab_type": "text"
      },
      "source": [
        "comman operations on dataframes"
      ]
    },
    {
      "cell_type": "code",
      "metadata": {
        "id": "qg19kyox1dmz",
        "colab_type": "code",
        "colab": {
          "base_uri": "https://localhost:8080/",
          "height": 487
        },
        "outputId": "a70ec784-2c44-48ea-a794-513002f0dec3"
      },
      "source": [
        "#print first 5 rows\n",
        "print(df.head())\n",
        "\n",
        "print(\"\\n\\n\")\n",
        "#print last 5 rows\n",
        "print(df.tail())\n",
        "\n",
        "print(\"\\n\\n\\n\")\n",
        "#print custom number of rows from begining and from end\n",
        "\n",
        "print(df.head(2))\n",
        "\n",
        "print(\"\\n\\n\")\n",
        "\n",
        "print(df.tail(2))"
      ],
      "execution_count": 26,
      "outputs": [
        {
          "output_type": "stream",
          "text": [
            "  Country or Area  Year          Value\n",
            "0       Australia  2017  554126.561371\n",
            "1       Australia  2016  546771.759767\n",
            "2       Australia  2015  535173.674335\n",
            "3       Australia  2014  524957.101167\n",
            "4       Australia  2013  530433.518839\n",
            "\n",
            "\n",
            "\n",
            "               Country or Area  Year         Value\n",
            "1199  United States of America  1994  6.624836e+06\n",
            "1200  United States of America  1993  6.532070e+06\n",
            "1201  United States of America  1992  6.424934e+06\n",
            "1202  United States of America  1991  6.315615e+06\n",
            "1203  United States of America  1990  6.371001e+06\n",
            "\n",
            "\n",
            "\n",
            "\n",
            "  Country or Area  Year          Value\n",
            "0       Australia  2017  554126.561371\n",
            "1       Australia  2016  546771.759767\n",
            "\n",
            "\n",
            "\n",
            "               Country or Area  Year         Value\n",
            "1202  United States of America  1991  6.315615e+06\n",
            "1203  United States of America  1990  6.371001e+06\n"
          ],
          "name": "stdout"
        }
      ]
    },
    {
      "cell_type": "code",
      "metadata": {
        "id": "g8Qp6YST2V19",
        "colab_type": "code",
        "colab": {
          "base_uri": "https://localhost:8080/",
          "height": 185
        },
        "outputId": "ac4da3e6-7939-4481-f751-d32ee50353ba"
      },
      "source": [
        "#getting info of the dataframe\n",
        "df.info()"
      ],
      "execution_count": 27,
      "outputs": [
        {
          "output_type": "stream",
          "text": [
            "<class 'pandas.core.frame.DataFrame'>\n",
            "RangeIndex: 1204 entries, 0 to 1203\n",
            "Data columns (total 3 columns):\n",
            " #   Column           Non-Null Count  Dtype  \n",
            "---  ------           --------------  -----  \n",
            " 0   Country or Area  1204 non-null   object \n",
            " 1   Year             1204 non-null   int64  \n",
            " 2   Value            1204 non-null   float64\n",
            "dtypes: float64(1), int64(1), object(1)\n",
            "memory usage: 28.3+ KB\n"
          ],
          "name": "stdout"
        }
      ]
    },
    {
      "cell_type": "code",
      "metadata": {
        "id": "T8VMbgsn3FJm",
        "colab_type": "code",
        "colab": {
          "base_uri": "https://localhost:8080/",
          "height": 34
        },
        "outputId": "743c45f1-ccdd-4414-bd88-99271eb43954"
      },
      "source": [
        "#getting the shape\n",
        "df.shape"
      ],
      "execution_count": 29,
      "outputs": [
        {
          "output_type": "execute_result",
          "data": {
            "text/plain": [
              "(1204, 3)"
            ]
          },
          "metadata": {
            "tags": []
          },
          "execution_count": 29
        }
      ]
    },
    {
      "cell_type": "code",
      "metadata": {
        "id": "aSUHAYDH3R8j",
        "colab_type": "code",
        "colab": {
          "base_uri": "https://localhost:8080/",
          "height": 50
        },
        "outputId": "c1d023ce-10b5-4ff3-a63f-921ef1bba54c"
      },
      "source": [
        "# dropping duplicates\n",
        "\n",
        "#create duplicate in df\n",
        "\n",
        "tempdf = df.append(df)\n",
        "print(tempdf.shape)\n",
        "\n",
        "tempdf = tempdf.drop_duplicates()\n",
        "print(tempdf.shape)\n",
        "\n",
        "#to avoid assigning use inplace\n",
        "tempdf.drop_duplicates(inplace=True)"
      ],
      "execution_count": 33,
      "outputs": [
        {
          "output_type": "stream",
          "text": [
            "(2408, 3)\n",
            "(1204, 3)\n"
          ],
          "name": "stdout"
        }
      ]
    },
    {
      "cell_type": "code",
      "metadata": {
        "id": "MhdXjONgPqYH",
        "colab_type": "code",
        "colab": {
          "base_uri": "https://localhost:8080/",
          "height": 34
        },
        "outputId": "3bdc01f4-d8ef-43d9-d1ff-55d34d4faf90"
      },
      "source": [
        "#get list of column names\n",
        "\n",
        "df.columns"
      ],
      "execution_count": 35,
      "outputs": [
        {
          "output_type": "execute_result",
          "data": {
            "text/plain": [
              "Index(['Country or Area', 'Year', 'Value'], dtype='object')"
            ]
          },
          "metadata": {
            "tags": []
          },
          "execution_count": 35
        }
      ]
    },
    {
      "cell_type": "code",
      "metadata": {
        "id": "u8pCDnGRQPXD",
        "colab_type": "code",
        "colab": {
          "base_uri": "https://localhost:8080/",
          "height": 34
        },
        "outputId": "6784f278-02e1-4275-996a-12b6b14b9670"
      },
      "source": [
        "#rename columns\n",
        "\n",
        "df.rename(columns={\n",
        "    'values': 'Value'\n",
        "},inplace=True)\n",
        "\n",
        "df.columns"
      ],
      "execution_count": 43,
      "outputs": [
        {
          "output_type": "execute_result",
          "data": {
            "text/plain": [
              "Index(['Country or Area', 'Year', 'Value'], dtype='object')"
            ]
          },
          "metadata": {
            "tags": []
          },
          "execution_count": 43
        }
      ]
    },
    {
      "cell_type": "code",
      "metadata": {
        "id": "Hw4H0KPERSA2",
        "colab_type": "code",
        "colab": {
          "base_uri": "https://localhost:8080/",
          "height": 34
        },
        "outputId": "b5c03f1b-0056-45a5-a210-23972fd406ee"
      },
      "source": [
        "#change column names to all lowercase \n",
        "\n",
        "df.columns = [col.lower() for col in df]\n",
        "df.columns"
      ],
      "execution_count": 45,
      "outputs": [
        {
          "output_type": "execute_result",
          "data": {
            "text/plain": [
              "Index(['country or area', 'year', 'value'], dtype='object')"
            ]
          },
          "metadata": {
            "tags": []
          },
          "execution_count": 45
        }
      ]
    },
    {
      "cell_type": "markdown",
      "metadata": {
        "id": "H-8I6VfuR-R4",
        "colab_type": "text"
      },
      "source": [
        "Working with missing values\n",
        "\n",
        "  \n",
        "\n",
        "\n",
        "\n",
        "\n",
        "\n",
        "\n"
      ]
    },
    {
      "cell_type": "code",
      "metadata": {
        "id": "pxc3pMJxTCWZ",
        "colab_type": "code",
        "colab": {
          "base_uri": "https://localhost:8080/",
          "height": 402
        },
        "outputId": "35076fe3-a150-4efe-d7cf-cbaa81f9af30"
      },
      "source": [
        "#check Dataframe contains null values or not\n",
        "df.isnull()"
      ],
      "execution_count": 46,
      "outputs": [
        {
          "output_type": "execute_result",
          "data": {
            "text/html": [
              "<div>\n",
              "<style scoped>\n",
              "    .dataframe tbody tr th:only-of-type {\n",
              "        vertical-align: middle;\n",
              "    }\n",
              "\n",
              "    .dataframe tbody tr th {\n",
              "        vertical-align: top;\n",
              "    }\n",
              "\n",
              "    .dataframe thead th {\n",
              "        text-align: right;\n",
              "    }\n",
              "</style>\n",
              "<table border=\"1\" class=\"dataframe\">\n",
              "  <thead>\n",
              "    <tr style=\"text-align: right;\">\n",
              "      <th></th>\n",
              "      <th>country or area</th>\n",
              "      <th>year</th>\n",
              "      <th>value</th>\n",
              "    </tr>\n",
              "  </thead>\n",
              "  <tbody>\n",
              "    <tr>\n",
              "      <th>0</th>\n",
              "      <td>False</td>\n",
              "      <td>False</td>\n",
              "      <td>False</td>\n",
              "    </tr>\n",
              "    <tr>\n",
              "      <th>1</th>\n",
              "      <td>False</td>\n",
              "      <td>False</td>\n",
              "      <td>False</td>\n",
              "    </tr>\n",
              "    <tr>\n",
              "      <th>2</th>\n",
              "      <td>False</td>\n",
              "      <td>False</td>\n",
              "      <td>False</td>\n",
              "    </tr>\n",
              "    <tr>\n",
              "      <th>3</th>\n",
              "      <td>False</td>\n",
              "      <td>False</td>\n",
              "      <td>False</td>\n",
              "    </tr>\n",
              "    <tr>\n",
              "      <th>4</th>\n",
              "      <td>False</td>\n",
              "      <td>False</td>\n",
              "      <td>False</td>\n",
              "    </tr>\n",
              "    <tr>\n",
              "      <th>...</th>\n",
              "      <td>...</td>\n",
              "      <td>...</td>\n",
              "      <td>...</td>\n",
              "    </tr>\n",
              "    <tr>\n",
              "      <th>1199</th>\n",
              "      <td>False</td>\n",
              "      <td>False</td>\n",
              "      <td>False</td>\n",
              "    </tr>\n",
              "    <tr>\n",
              "      <th>1200</th>\n",
              "      <td>False</td>\n",
              "      <td>False</td>\n",
              "      <td>False</td>\n",
              "    </tr>\n",
              "    <tr>\n",
              "      <th>1201</th>\n",
              "      <td>False</td>\n",
              "      <td>False</td>\n",
              "      <td>False</td>\n",
              "    </tr>\n",
              "    <tr>\n",
              "      <th>1202</th>\n",
              "      <td>False</td>\n",
              "      <td>False</td>\n",
              "      <td>False</td>\n",
              "    </tr>\n",
              "    <tr>\n",
              "      <th>1203</th>\n",
              "      <td>False</td>\n",
              "      <td>False</td>\n",
              "      <td>False</td>\n",
              "    </tr>\n",
              "  </tbody>\n",
              "</table>\n",
              "<p>1204 rows × 3 columns</p>\n",
              "</div>"
            ],
            "text/plain": [
              "      country or area   year  value\n",
              "0               False  False  False\n",
              "1               False  False  False\n",
              "2               False  False  False\n",
              "3               False  False  False\n",
              "4               False  False  False\n",
              "...               ...    ...    ...\n",
              "1199            False  False  False\n",
              "1200            False  False  False\n",
              "1201            False  False  False\n",
              "1202            False  False  False\n",
              "1203            False  False  False\n",
              "\n",
              "[1204 rows x 3 columns]"
            ]
          },
          "metadata": {
            "tags": []
          },
          "execution_count": 46
        }
      ]
    },
    {
      "cell_type": "code",
      "metadata": {
        "id": "sXeLqua0TVtA",
        "colab_type": "code",
        "colab": {
          "base_uri": "https://localhost:8080/",
          "height": 84
        },
        "outputId": "04ff7678-5ccc-478d-9dcd-39e0777309a9"
      },
      "source": [
        "#To count the number of nulls in each column we use an aggregate function for summing\n",
        "\n",
        "df.isnull().sum()"
      ],
      "execution_count": 47,
      "outputs": [
        {
          "output_type": "execute_result",
          "data": {
            "text/plain": [
              "country or area    0\n",
              "year               0\n",
              "value              0\n",
              "dtype: int64"
            ]
          },
          "metadata": {
            "tags": []
          },
          "execution_count": 47
        }
      ]
    },
    {
      "cell_type": "code",
      "metadata": {
        "id": "eHy2b7q4T2Om",
        "colab_type": "code",
        "colab": {}
      },
      "source": [
        "#removing null values \n",
        "\n",
        "df.dropna() #will drop all rows which contains atleast one null value it will return a new DataFrame so to work on the same one use inplace = True \n",
        "df.dropna(axis=1) #will drop the columns which contains a null value"
      ],
      "execution_count": 0,
      "outputs": []
    },
    {
      "cell_type": "code",
      "metadata": {
        "id": "JlD3kgZiVOcM",
        "colab_type": "code",
        "colab": {
          "base_uri": "https://localhost:8080/",
          "height": 218
        },
        "outputId": "7c6aa097-b22f-4927-aa60-0b8a891f0a9f"
      },
      "source": [
        "#selcting a column to a series\n",
        "\n",
        "years = df['year']\n",
        "years"
      ],
      "execution_count": 50,
      "outputs": [
        {
          "output_type": "execute_result",
          "data": {
            "text/plain": [
              "0       2017\n",
              "1       2016\n",
              "2       2015\n",
              "3       2014\n",
              "4       2013\n",
              "        ... \n",
              "1199    1994\n",
              "1200    1993\n",
              "1201    1992\n",
              "1202    1991\n",
              "1203    1990\n",
              "Name: year, Length: 1204, dtype: int64"
            ]
          },
          "metadata": {
            "tags": []
          },
          "execution_count": 50
        }
      ]
    },
    {
      "cell_type": "code",
      "metadata": {
        "id": "CpghEWJTVjdr",
        "colab_type": "code",
        "colab": {
          "base_uri": "https://localhost:8080/",
          "height": 34
        },
        "outputId": "67b7c119-3e57-4320-b6a2-a4c4979f2ff2"
      },
      "source": [
        "#finding mean of series \n",
        "\n",
        "years_mean = years.mean()\n",
        "years_mean"
      ],
      "execution_count": 52,
      "outputs": [
        {
          "output_type": "execute_result",
          "data": {
            "text/plain": [
              "2003.5"
            ]
          },
          "metadata": {
            "tags": []
          },
          "execution_count": 52
        }
      ]
    },
    {
      "cell_type": "code",
      "metadata": {
        "id": "Cp0MMJPJVy-y",
        "colab_type": "code",
        "colab": {}
      },
      "source": [
        "#filling values at places of null\n",
        "\n",
        "df.fillna(years_mean,inplace= True)"
      ],
      "execution_count": 0,
      "outputs": []
    },
    {
      "cell_type": "code",
      "metadata": {
        "id": "oFYyK4ewWE3m",
        "colab_type": "code",
        "colab": {
          "base_uri": "https://localhost:8080/",
          "height": 284
        },
        "outputId": "f7e20939-56a1-4cdd-b338-94340ba77884"
      },
      "source": [
        "#summary of the distribution of continuous variables\n",
        "\n",
        "df.describe()"
      ],
      "execution_count": 54,
      "outputs": [
        {
          "output_type": "execute_result",
          "data": {
            "text/html": [
              "<div>\n",
              "<style scoped>\n",
              "    .dataframe tbody tr th:only-of-type {\n",
              "        vertical-align: middle;\n",
              "    }\n",
              "\n",
              "    .dataframe tbody tr th {\n",
              "        vertical-align: top;\n",
              "    }\n",
              "\n",
              "    .dataframe thead th {\n",
              "        text-align: right;\n",
              "    }\n",
              "</style>\n",
              "<table border=\"1\" class=\"dataframe\">\n",
              "  <thead>\n",
              "    <tr style=\"text-align: right;\">\n",
              "      <th></th>\n",
              "      <th>year</th>\n",
              "      <th>value</th>\n",
              "    </tr>\n",
              "  </thead>\n",
              "  <tbody>\n",
              "    <tr>\n",
              "      <th>count</th>\n",
              "      <td>1204.000000</td>\n",
              "      <td>1.204000e+03</td>\n",
              "    </tr>\n",
              "    <tr>\n",
              "      <th>mean</th>\n",
              "      <td>2003.500000</td>\n",
              "      <td>5.280785e+05</td>\n",
              "    </tr>\n",
              "    <tr>\n",
              "      <th>std</th>\n",
              "      <td>8.081104</td>\n",
              "      <td>1.283749e+06</td>\n",
              "    </tr>\n",
              "    <tr>\n",
              "      <th>min</th>\n",
              "      <td>1990.000000</td>\n",
              "      <td>8.412655e+01</td>\n",
              "    </tr>\n",
              "    <tr>\n",
              "      <th>25%</th>\n",
              "      <td>1996.750000</td>\n",
              "      <td>3.093901e+04</td>\n",
              "    </tr>\n",
              "    <tr>\n",
              "      <th>50%</th>\n",
              "      <td>2003.500000</td>\n",
              "      <td>8.069707e+04</td>\n",
              "    </tr>\n",
              "    <tr>\n",
              "      <th>75%</th>\n",
              "      <td>2010.250000</td>\n",
              "      <td>4.392478e+05</td>\n",
              "    </tr>\n",
              "    <tr>\n",
              "      <th>max</th>\n",
              "      <td>2017.000000</td>\n",
              "      <td>7.369968e+06</td>\n",
              "    </tr>\n",
              "  </tbody>\n",
              "</table>\n",
              "</div>"
            ],
            "text/plain": [
              "              year         value\n",
              "count  1204.000000  1.204000e+03\n",
              "mean   2003.500000  5.280785e+05\n",
              "std       8.081104  1.283749e+06\n",
              "min    1990.000000  8.412655e+01\n",
              "25%    1996.750000  3.093901e+04\n",
              "50%    2003.500000  8.069707e+04\n",
              "75%    2010.250000  4.392478e+05\n",
              "max    2017.000000  7.369968e+06"
            ]
          },
          "metadata": {
            "tags": []
          },
          "execution_count": 54
        }
      ]
    },
    {
      "cell_type": "code",
      "metadata": {
        "id": "N8D4t0FsWkof",
        "colab_type": "code",
        "colab": {
          "base_uri": "https://localhost:8080/",
          "height": 101
        },
        "outputId": "00fb4272-fa73-467c-a1c7-29d2ddf61ccf"
      },
      "source": [
        "#in cateogical variable describe will provide counts and diffrent details\n",
        "\n",
        "df['country_or_area'].describe()\n"
      ],
      "execution_count": 63,
      "outputs": [
        {
          "output_type": "execute_result",
          "data": {
            "text/plain": [
              "count         1204\n",
              "unique          43\n",
              "top       Slovenia\n",
              "freq            28\n",
              "Name: country_or_area, dtype: object"
            ]
          },
          "metadata": {
            "tags": []
          },
          "execution_count": 63
        }
      ]
    },
    {
      "cell_type": "code",
      "metadata": {
        "id": "j0SuFHkhXwQv",
        "colab_type": "code",
        "colab": {
          "base_uri": "https://localhost:8080/",
          "height": 756
        },
        "outputId": "8799a40e-3e45-4214-ea03-cbe67503b0c5"
      },
      "source": [
        "#frequency of all values in a column\n",
        "df['country_or_area'].value_counts()\n"
      ],
      "execution_count": 64,
      "outputs": [
        {
          "output_type": "execute_result",
          "data": {
            "text/plain": [
              "Slovenia                    28\n",
              "Turkey                      28\n",
              "New Zealand                 28\n",
              "Monaco                      28\n",
              "Cyprus                      28\n",
              "Lithuania                   28\n",
              "Spain                       28\n",
              "Estonia                     28\n",
              "Sweden                      28\n",
              "Slovakia                    28\n",
              "Italy                       28\n",
              "United States of America    28\n",
              "Japan                       28\n",
              "Belarus                     28\n",
              "Finland                     28\n",
              "Greece                      28\n",
              "Poland                      28\n",
              "Romania                     28\n",
              "Canada                      28\n",
              "Croatia                     28\n",
              "Iceland                     28\n",
              "Denmark                     28\n",
              "Russian Federation          28\n",
              "Australia                   28\n",
              "Ukraine                     28\n",
              "Switzerland                 28\n",
              "Czechia                     28\n",
              "Bulgaria                    28\n",
              "Luxembourg                  28\n",
              "Netherlands                 28\n",
              "United Kingdom              28\n",
              "France                      28\n",
              "Hungary                     28\n",
              "Malta                       28\n",
              "Ireland                     28\n",
              "Germany                     28\n",
              "Latvia                      28\n",
              "Belgium                     28\n",
              "Austria                     28\n",
              "Portugal                    28\n",
              "European Union              28\n",
              "Norway                      28\n",
              "Liechtenstein               28\n",
              "Name: country_or_area, dtype: int64"
            ]
          },
          "metadata": {
            "tags": []
          },
          "execution_count": 64
        }
      ]
    },
    {
      "cell_type": "code",
      "metadata": {
        "id": "oeNu0qD_YTeR",
        "colab_type": "code",
        "colab": {
          "base_uri": "https://localhost:8080/",
          "height": 106
        },
        "outputId": "12843261-5fd1-458c-b820-e88fbe5a309a"
      },
      "source": [
        "#find Relationships between continuous variables\n",
        "\n",
        "df.corr()"
      ],
      "execution_count": 65,
      "outputs": [
        {
          "output_type": "execute_result",
          "data": {
            "text/html": [
              "<div>\n",
              "<style scoped>\n",
              "    .dataframe tbody tr th:only-of-type {\n",
              "        vertical-align: middle;\n",
              "    }\n",
              "\n",
              "    .dataframe tbody tr th {\n",
              "        vertical-align: top;\n",
              "    }\n",
              "\n",
              "    .dataframe thead th {\n",
              "        text-align: right;\n",
              "    }\n",
              "</style>\n",
              "<table border=\"1\" class=\"dataframe\">\n",
              "  <thead>\n",
              "    <tr style=\"text-align: right;\">\n",
              "      <th></th>\n",
              "      <th>year</th>\n",
              "      <th>value</th>\n",
              "    </tr>\n",
              "  </thead>\n",
              "  <tbody>\n",
              "    <tr>\n",
              "      <th>year</th>\n",
              "      <td>1.000000</td>\n",
              "      <td>-0.014456</td>\n",
              "    </tr>\n",
              "    <tr>\n",
              "      <th>value</th>\n",
              "      <td>-0.014456</td>\n",
              "      <td>1.000000</td>\n",
              "    </tr>\n",
              "  </tbody>\n",
              "</table>\n",
              "</div>"
            ],
            "text/plain": [
              "           year     value\n",
              "year   1.000000 -0.014456\n",
              "value -0.014456  1.000000"
            ]
          },
          "metadata": {
            "tags": []
          },
          "execution_count": 65
        }
      ]
    },
    {
      "cell_type": "markdown",
      "metadata": {
        "id": "5Vcrkoa-aqZC",
        "colab_type": "text"
      },
      "source": [
        "DataFrame slicing, selecting, extracting"
      ]
    },
    {
      "cell_type": "code",
      "metadata": {
        "id": "hlpUmaFlargR",
        "colab_type": "code",
        "colab": {
          "base_uri": "https://localhost:8080/",
          "height": 218
        },
        "outputId": "92d41704-140e-43b9-e924-0155f2a92e02"
      },
      "source": [
        "#using column names\n",
        "df['year']"
      ],
      "execution_count": 66,
      "outputs": [
        {
          "output_type": "execute_result",
          "data": {
            "text/plain": [
              "0       2017\n",
              "1       2016\n",
              "2       2015\n",
              "3       2014\n",
              "4       2013\n",
              "        ... \n",
              "1199    1994\n",
              "1200    1993\n",
              "1201    1992\n",
              "1202    1991\n",
              "1203    1990\n",
              "Name: year, Length: 1204, dtype: int64"
            ]
          },
          "metadata": {
            "tags": []
          },
          "execution_count": 66
        }
      ]
    },
    {
      "cell_type": "code",
      "metadata": {
        "id": "eM6ed17nbLxg",
        "colab_type": "code",
        "colab": {
          "base_uri": "https://localhost:8080/",
          "height": 402
        },
        "outputId": "fb2a1e23-f89c-4b3a-e45e-0935f4a94577"
      },
      "source": [
        "#get a column or columns as a DataFrame\n",
        "\n",
        "colDF = df[['year','value']]\n",
        "colDF"
      ],
      "execution_count": 69,
      "outputs": [
        {
          "output_type": "execute_result",
          "data": {
            "text/html": [
              "<div>\n",
              "<style scoped>\n",
              "    .dataframe tbody tr th:only-of-type {\n",
              "        vertical-align: middle;\n",
              "    }\n",
              "\n",
              "    .dataframe tbody tr th {\n",
              "        vertical-align: top;\n",
              "    }\n",
              "\n",
              "    .dataframe thead th {\n",
              "        text-align: right;\n",
              "    }\n",
              "</style>\n",
              "<table border=\"1\" class=\"dataframe\">\n",
              "  <thead>\n",
              "    <tr style=\"text-align: right;\">\n",
              "      <th></th>\n",
              "      <th>year</th>\n",
              "      <th>value</th>\n",
              "    </tr>\n",
              "  </thead>\n",
              "  <tbody>\n",
              "    <tr>\n",
              "      <th>0</th>\n",
              "      <td>2017</td>\n",
              "      <td>5.541266e+05</td>\n",
              "    </tr>\n",
              "    <tr>\n",
              "      <th>1</th>\n",
              "      <td>2016</td>\n",
              "      <td>5.467718e+05</td>\n",
              "    </tr>\n",
              "    <tr>\n",
              "      <th>2</th>\n",
              "      <td>2015</td>\n",
              "      <td>5.351737e+05</td>\n",
              "    </tr>\n",
              "    <tr>\n",
              "      <th>3</th>\n",
              "      <td>2014</td>\n",
              "      <td>5.249571e+05</td>\n",
              "    </tr>\n",
              "    <tr>\n",
              "      <th>4</th>\n",
              "      <td>2013</td>\n",
              "      <td>5.304335e+05</td>\n",
              "    </tr>\n",
              "    <tr>\n",
              "      <th>...</th>\n",
              "      <td>...</td>\n",
              "      <td>...</td>\n",
              "    </tr>\n",
              "    <tr>\n",
              "      <th>1199</th>\n",
              "      <td>1994</td>\n",
              "      <td>6.624836e+06</td>\n",
              "    </tr>\n",
              "    <tr>\n",
              "      <th>1200</th>\n",
              "      <td>1993</td>\n",
              "      <td>6.532070e+06</td>\n",
              "    </tr>\n",
              "    <tr>\n",
              "      <th>1201</th>\n",
              "      <td>1992</td>\n",
              "      <td>6.424934e+06</td>\n",
              "    </tr>\n",
              "    <tr>\n",
              "      <th>1202</th>\n",
              "      <td>1991</td>\n",
              "      <td>6.315615e+06</td>\n",
              "    </tr>\n",
              "    <tr>\n",
              "      <th>1203</th>\n",
              "      <td>1990</td>\n",
              "      <td>6.371001e+06</td>\n",
              "    </tr>\n",
              "  </tbody>\n",
              "</table>\n",
              "<p>1204 rows × 2 columns</p>\n",
              "</div>"
            ],
            "text/plain": [
              "      year         value\n",
              "0     2017  5.541266e+05\n",
              "1     2016  5.467718e+05\n",
              "2     2015  5.351737e+05\n",
              "3     2014  5.249571e+05\n",
              "4     2013  5.304335e+05\n",
              "...    ...           ...\n",
              "1199  1994  6.624836e+06\n",
              "1200  1993  6.532070e+06\n",
              "1201  1992  6.424934e+06\n",
              "1202  1991  6.315615e+06\n",
              "1203  1990  6.371001e+06\n",
              "\n",
              "[1204 rows x 2 columns]"
            ]
          },
          "metadata": {
            "tags": []
          },
          "execution_count": 69
        }
      ]
    },
    {
      "cell_type": "code",
      "metadata": {
        "id": "oZ88ghz6boqk",
        "colab_type": "code",
        "colab": {
          "base_uri": "https://localhost:8080/",
          "height": 84
        },
        "outputId": "6ef8b448-97d9-4c8a-e85e-35134915b7d6"
      },
      "source": [
        "#by location name\n",
        "df.loc[9]\n",
        "\n",
        "\n",
        "#by python style indexing\n",
        "df.iloc[10]"
      ],
      "execution_count": 71,
      "outputs": [
        {
          "output_type": "execute_result",
          "data": {
            "text/plain": [
              "country_or_area    Australia\n",
              "year                    2007\n",
              "value                 533138\n",
              "Name: 10, dtype: object"
            ]
          },
          "metadata": {
            "tags": []
          },
          "execution_count": 71
        }
      ]
    },
    {
      "cell_type": "code",
      "metadata": {
        "id": "FdGq8MZXcE_d",
        "colab_type": "code",
        "colab": {
          "base_uri": "https://localhost:8080/",
          "height": 284
        },
        "outputId": "79167557-7935-427d-acbf-8e5374b1d52d"
      },
      "source": [
        "df.loc[0:7]"
      ],
      "execution_count": 76,
      "outputs": [
        {
          "output_type": "execute_result",
          "data": {
            "text/html": [
              "<div>\n",
              "<style scoped>\n",
              "    .dataframe tbody tr th:only-of-type {\n",
              "        vertical-align: middle;\n",
              "    }\n",
              "\n",
              "    .dataframe tbody tr th {\n",
              "        vertical-align: top;\n",
              "    }\n",
              "\n",
              "    .dataframe thead th {\n",
              "        text-align: right;\n",
              "    }\n",
              "</style>\n",
              "<table border=\"1\" class=\"dataframe\">\n",
              "  <thead>\n",
              "    <tr style=\"text-align: right;\">\n",
              "      <th></th>\n",
              "      <th>country_or_area</th>\n",
              "      <th>year</th>\n",
              "      <th>value</th>\n",
              "    </tr>\n",
              "  </thead>\n",
              "  <tbody>\n",
              "    <tr>\n",
              "      <th>0</th>\n",
              "      <td>Australia</td>\n",
              "      <td>2017</td>\n",
              "      <td>554126.561371</td>\n",
              "    </tr>\n",
              "    <tr>\n",
              "      <th>1</th>\n",
              "      <td>Australia</td>\n",
              "      <td>2016</td>\n",
              "      <td>546771.759767</td>\n",
              "    </tr>\n",
              "    <tr>\n",
              "      <th>2</th>\n",
              "      <td>Australia</td>\n",
              "      <td>2015</td>\n",
              "      <td>535173.674335</td>\n",
              "    </tr>\n",
              "    <tr>\n",
              "      <th>3</th>\n",
              "      <td>Australia</td>\n",
              "      <td>2014</td>\n",
              "      <td>524957.101167</td>\n",
              "    </tr>\n",
              "    <tr>\n",
              "      <th>4</th>\n",
              "      <td>Australia</td>\n",
              "      <td>2013</td>\n",
              "      <td>530433.518839</td>\n",
              "    </tr>\n",
              "    <tr>\n",
              "      <th>5</th>\n",
              "      <td>Australia</td>\n",
              "      <td>2012</td>\n",
              "      <td>540615.864772</td>\n",
              "    </tr>\n",
              "    <tr>\n",
              "      <th>6</th>\n",
              "      <td>Australia</td>\n",
              "      <td>2011</td>\n",
              "      <td>538280.611349</td>\n",
              "    </tr>\n",
              "    <tr>\n",
              "      <th>7</th>\n",
              "      <td>Australia</td>\n",
              "      <td>2010</td>\n",
              "      <td>537275.249361</td>\n",
              "    </tr>\n",
              "  </tbody>\n",
              "</table>\n",
              "</div>"
            ],
            "text/plain": [
              "  country_or_area  year          value\n",
              "0       Australia  2017  554126.561371\n",
              "1       Australia  2016  546771.759767\n",
              "2       Australia  2015  535173.674335\n",
              "3       Australia  2014  524957.101167\n",
              "4       Australia  2013  530433.518839\n",
              "5       Australia  2012  540615.864772\n",
              "6       Australia  2011  538280.611349\n",
              "7       Australia  2010  537275.249361"
            ]
          },
          "metadata": {
            "tags": []
          },
          "execution_count": 76
        }
      ]
    },
    {
      "cell_type": "code",
      "metadata": {
        "id": "UIJfqAG1r2eY",
        "colab_type": "code",
        "colab": {
          "base_uri": "https://localhost:8080/",
          "height": 1000
        },
        "outputId": "ac67e54a-a998-4e9e-9a85-2d5eb876f357"
      },
      "source": [
        "#conditional selection\n",
        "\n",
        "df[df['year']==2013]"
      ],
      "execution_count": 79,
      "outputs": [
        {
          "output_type": "execute_result",
          "data": {
            "text/html": [
              "<div>\n",
              "<style scoped>\n",
              "    .dataframe tbody tr th:only-of-type {\n",
              "        vertical-align: middle;\n",
              "    }\n",
              "\n",
              "    .dataframe tbody tr th {\n",
              "        vertical-align: top;\n",
              "    }\n",
              "\n",
              "    .dataframe thead th {\n",
              "        text-align: right;\n",
              "    }\n",
              "</style>\n",
              "<table border=\"1\" class=\"dataframe\">\n",
              "  <thead>\n",
              "    <tr style=\"text-align: right;\">\n",
              "      <th></th>\n",
              "      <th>country_or_area</th>\n",
              "      <th>year</th>\n",
              "      <th>value</th>\n",
              "    </tr>\n",
              "  </thead>\n",
              "  <tbody>\n",
              "    <tr>\n",
              "      <th>4</th>\n",
              "      <td>Australia</td>\n",
              "      <td>2013</td>\n",
              "      <td>5.304335e+05</td>\n",
              "    </tr>\n",
              "    <tr>\n",
              "      <th>32</th>\n",
              "      <td>Austria</td>\n",
              "      <td>2013</td>\n",
              "      <td>8.035253e+04</td>\n",
              "    </tr>\n",
              "    <tr>\n",
              "      <th>60</th>\n",
              "      <td>Belarus</td>\n",
              "      <td>2013</td>\n",
              "      <td>9.536361e+04</td>\n",
              "    </tr>\n",
              "    <tr>\n",
              "      <th>88</th>\n",
              "      <td>Belgium</td>\n",
              "      <td>2013</td>\n",
              "      <td>1.193044e+05</td>\n",
              "    </tr>\n",
              "    <tr>\n",
              "      <th>116</th>\n",
              "      <td>Bulgaria</td>\n",
              "      <td>2013</td>\n",
              "      <td>5.551283e+04</td>\n",
              "    </tr>\n",
              "    <tr>\n",
              "      <th>144</th>\n",
              "      <td>Canada</td>\n",
              "      <td>2013</td>\n",
              "      <td>7.220628e+05</td>\n",
              "    </tr>\n",
              "    <tr>\n",
              "      <th>172</th>\n",
              "      <td>Croatia</td>\n",
              "      <td>2013</td>\n",
              "      <td>2.455454e+04</td>\n",
              "    </tr>\n",
              "    <tr>\n",
              "      <th>200</th>\n",
              "      <td>Cyprus</td>\n",
              "      <td>2013</td>\n",
              "      <td>7.843026e+03</td>\n",
              "    </tr>\n",
              "    <tr>\n",
              "      <th>228</th>\n",
              "      <td>Czechia</td>\n",
              "      <td>2013</td>\n",
              "      <td>1.286911e+05</td>\n",
              "    </tr>\n",
              "    <tr>\n",
              "      <th>256</th>\n",
              "      <td>Denmark</td>\n",
              "      <td>2013</td>\n",
              "      <td>5.602137e+04</td>\n",
              "    </tr>\n",
              "    <tr>\n",
              "      <th>284</th>\n",
              "      <td>Estonia</td>\n",
              "      <td>2013</td>\n",
              "      <td>2.194191e+04</td>\n",
              "    </tr>\n",
              "    <tr>\n",
              "      <th>312</th>\n",
              "      <td>European Union</td>\n",
              "      <td>2013</td>\n",
              "      <td>4.468920e+06</td>\n",
              "    </tr>\n",
              "    <tr>\n",
              "      <th>340</th>\n",
              "      <td>Finland</td>\n",
              "      <td>2013</td>\n",
              "      <td>6.289383e+04</td>\n",
              "    </tr>\n",
              "    <tr>\n",
              "      <th>368</th>\n",
              "      <td>France</td>\n",
              "      <td>2013</td>\n",
              "      <td>4.911411e+05</td>\n",
              "    </tr>\n",
              "    <tr>\n",
              "      <th>396</th>\n",
              "      <td>Germany</td>\n",
              "      <td>2013</td>\n",
              "      <td>9.422501e+05</td>\n",
              "    </tr>\n",
              "    <tr>\n",
              "      <th>424</th>\n",
              "      <td>Greece</td>\n",
              "      <td>2013</td>\n",
              "      <td>1.025466e+05</td>\n",
              "    </tr>\n",
              "    <tr>\n",
              "      <th>452</th>\n",
              "      <td>Hungary</td>\n",
              "      <td>2013</td>\n",
              "      <td>5.679577e+04</td>\n",
              "    </tr>\n",
              "    <tr>\n",
              "      <th>480</th>\n",
              "      <td>Iceland</td>\n",
              "      <td>2013</td>\n",
              "      <td>4.598715e+03</td>\n",
              "    </tr>\n",
              "    <tr>\n",
              "      <th>508</th>\n",
              "      <td>Ireland</td>\n",
              "      <td>2013</td>\n",
              "      <td>5.741021e+04</td>\n",
              "    </tr>\n",
              "    <tr>\n",
              "      <th>536</th>\n",
              "      <td>Italy</td>\n",
              "      <td>2013</td>\n",
              "      <td>4.427084e+05</td>\n",
              "    </tr>\n",
              "    <tr>\n",
              "      <th>564</th>\n",
              "      <td>Japan</td>\n",
              "      <td>2013</td>\n",
              "      <td>1.408057e+06</td>\n",
              "    </tr>\n",
              "    <tr>\n",
              "      <th>592</th>\n",
              "      <td>Latvia</td>\n",
              "      <td>2013</td>\n",
              "      <td>1.125972e+04</td>\n",
              "    </tr>\n",
              "    <tr>\n",
              "      <th>620</th>\n",
              "      <td>Liechtenstein</td>\n",
              "      <td>2013</td>\n",
              "      <td>2.321320e+02</td>\n",
              "    </tr>\n",
              "    <tr>\n",
              "      <th>648</th>\n",
              "      <td>Lithuania</td>\n",
              "      <td>2013</td>\n",
              "      <td>2.025817e+04</td>\n",
              "    </tr>\n",
              "    <tr>\n",
              "      <th>676</th>\n",
              "      <td>Luxembourg</td>\n",
              "      <td>2013</td>\n",
              "      <td>1.123861e+04</td>\n",
              "    </tr>\n",
              "    <tr>\n",
              "      <th>704</th>\n",
              "      <td>Malta</td>\n",
              "      <td>2013</td>\n",
              "      <td>2.860037e+03</td>\n",
              "    </tr>\n",
              "    <tr>\n",
              "      <th>732</th>\n",
              "      <td>Monaco</td>\n",
              "      <td>2013</td>\n",
              "      <td>9.030651e+01</td>\n",
              "    </tr>\n",
              "    <tr>\n",
              "      <th>760</th>\n",
              "      <td>Netherlands</td>\n",
              "      <td>2013</td>\n",
              "      <td>1.949539e+05</td>\n",
              "    </tr>\n",
              "    <tr>\n",
              "      <th>788</th>\n",
              "      <td>New Zealand</td>\n",
              "      <td>2013</td>\n",
              "      <td>8.054066e+04</td>\n",
              "    </tr>\n",
              "    <tr>\n",
              "      <th>816</th>\n",
              "      <td>Norway</td>\n",
              "      <td>2013</td>\n",
              "      <td>5.401524e+04</td>\n",
              "    </tr>\n",
              "    <tr>\n",
              "      <th>844</th>\n",
              "      <td>Poland</td>\n",
              "      <td>2013</td>\n",
              "      <td>3.999742e+05</td>\n",
              "    </tr>\n",
              "    <tr>\n",
              "      <th>872</th>\n",
              "      <td>Portugal</td>\n",
              "      <td>2013</td>\n",
              "      <td>6.371073e+04</td>\n",
              "    </tr>\n",
              "    <tr>\n",
              "      <th>900</th>\n",
              "      <td>Romania</td>\n",
              "      <td>2013</td>\n",
              "      <td>1.163049e+05</td>\n",
              "    </tr>\n",
              "    <tr>\n",
              "      <th>928</th>\n",
              "      <td>Russian Federation</td>\n",
              "      <td>2013</td>\n",
              "      <td>2.090717e+06</td>\n",
              "    </tr>\n",
              "    <tr>\n",
              "      <th>956</th>\n",
              "      <td>Slovakia</td>\n",
              "      <td>2013</td>\n",
              "      <td>4.282747e+04</td>\n",
              "    </tr>\n",
              "    <tr>\n",
              "      <th>984</th>\n",
              "      <td>Slovenia</td>\n",
              "      <td>2013</td>\n",
              "      <td>1.835917e+04</td>\n",
              "    </tr>\n",
              "    <tr>\n",
              "      <th>1012</th>\n",
              "      <td>Spain</td>\n",
              "      <td>2013</td>\n",
              "      <td>3.234412e+05</td>\n",
              "    </tr>\n",
              "    <tr>\n",
              "      <th>1040</th>\n",
              "      <td>Sweden</td>\n",
              "      <td>2013</td>\n",
              "      <td>5.536628e+04</td>\n",
              "    </tr>\n",
              "    <tr>\n",
              "      <th>1068</th>\n",
              "      <td>Switzerland</td>\n",
              "      <td>2013</td>\n",
              "      <td>5.222940e+04</td>\n",
              "    </tr>\n",
              "    <tr>\n",
              "      <th>1096</th>\n",
              "      <td>Turkey</td>\n",
              "      <td>2013</td>\n",
              "      <td>4.389688e+05</td>\n",
              "    </tr>\n",
              "    <tr>\n",
              "      <th>1124</th>\n",
              "      <td>Ukraine</td>\n",
              "      <td>2013</td>\n",
              "      <td>4.065068e+05</td>\n",
              "    </tr>\n",
              "    <tr>\n",
              "      <th>1152</th>\n",
              "      <td>United Kingdom</td>\n",
              "      <td>2013</td>\n",
              "      <td>5.699017e+05</td>\n",
              "    </tr>\n",
              "    <tr>\n",
              "      <th>1180</th>\n",
              "      <td>United States of America</td>\n",
              "      <td>2013</td>\n",
              "      <td>6.710218e+06</td>\n",
              "    </tr>\n",
              "  </tbody>\n",
              "</table>\n",
              "</div>"
            ],
            "text/plain": [
              "               country_or_area  year         value\n",
              "4                    Australia  2013  5.304335e+05\n",
              "32                     Austria  2013  8.035253e+04\n",
              "60                     Belarus  2013  9.536361e+04\n",
              "88                     Belgium  2013  1.193044e+05\n",
              "116                   Bulgaria  2013  5.551283e+04\n",
              "144                     Canada  2013  7.220628e+05\n",
              "172                    Croatia  2013  2.455454e+04\n",
              "200                     Cyprus  2013  7.843026e+03\n",
              "228                    Czechia  2013  1.286911e+05\n",
              "256                    Denmark  2013  5.602137e+04\n",
              "284                    Estonia  2013  2.194191e+04\n",
              "312             European Union  2013  4.468920e+06\n",
              "340                    Finland  2013  6.289383e+04\n",
              "368                     France  2013  4.911411e+05\n",
              "396                    Germany  2013  9.422501e+05\n",
              "424                     Greece  2013  1.025466e+05\n",
              "452                    Hungary  2013  5.679577e+04\n",
              "480                    Iceland  2013  4.598715e+03\n",
              "508                    Ireland  2013  5.741021e+04\n",
              "536                      Italy  2013  4.427084e+05\n",
              "564                      Japan  2013  1.408057e+06\n",
              "592                     Latvia  2013  1.125972e+04\n",
              "620              Liechtenstein  2013  2.321320e+02\n",
              "648                  Lithuania  2013  2.025817e+04\n",
              "676                 Luxembourg  2013  1.123861e+04\n",
              "704                      Malta  2013  2.860037e+03\n",
              "732                     Monaco  2013  9.030651e+01\n",
              "760                Netherlands  2013  1.949539e+05\n",
              "788                New Zealand  2013  8.054066e+04\n",
              "816                     Norway  2013  5.401524e+04\n",
              "844                     Poland  2013  3.999742e+05\n",
              "872                   Portugal  2013  6.371073e+04\n",
              "900                    Romania  2013  1.163049e+05\n",
              "928         Russian Federation  2013  2.090717e+06\n",
              "956                   Slovakia  2013  4.282747e+04\n",
              "984                   Slovenia  2013  1.835917e+04\n",
              "1012                     Spain  2013  3.234412e+05\n",
              "1040                    Sweden  2013  5.536628e+04\n",
              "1068               Switzerland  2013  5.222940e+04\n",
              "1096                    Turkey  2013  4.389688e+05\n",
              "1124                   Ukraine  2013  4.065068e+05\n",
              "1152            United Kingdom  2013  5.699017e+05\n",
              "1180  United States of America  2013  6.710218e+06"
            ]
          },
          "metadata": {
            "tags": []
          },
          "execution_count": 79
        }
      ]
    },
    {
      "cell_type": "code",
      "metadata": {
        "id": "zqEDu2ODwBCH",
        "colab_type": "code",
        "colab": {
          "base_uri": "https://localhost:8080/",
          "height": 402
        },
        "outputId": "f6b6604b-a143-4e42-d5a0-b3f221429ae7"
      },
      "source": [
        "#using isin\n",
        "df[df['year'].isin([2003,2012])]"
      ],
      "execution_count": 81,
      "outputs": [
        {
          "output_type": "execute_result",
          "data": {
            "text/html": [
              "<div>\n",
              "<style scoped>\n",
              "    .dataframe tbody tr th:only-of-type {\n",
              "        vertical-align: middle;\n",
              "    }\n",
              "\n",
              "    .dataframe tbody tr th {\n",
              "        vertical-align: top;\n",
              "    }\n",
              "\n",
              "    .dataframe thead th {\n",
              "        text-align: right;\n",
              "    }\n",
              "</style>\n",
              "<table border=\"1\" class=\"dataframe\">\n",
              "  <thead>\n",
              "    <tr style=\"text-align: right;\">\n",
              "      <th></th>\n",
              "      <th>country_or_area</th>\n",
              "      <th>year</th>\n",
              "      <th>value</th>\n",
              "    </tr>\n",
              "  </thead>\n",
              "  <tbody>\n",
              "    <tr>\n",
              "      <th>5</th>\n",
              "      <td>Australia</td>\n",
              "      <td>2012</td>\n",
              "      <td>5.406159e+05</td>\n",
              "    </tr>\n",
              "    <tr>\n",
              "      <th>14</th>\n",
              "      <td>Australia</td>\n",
              "      <td>2003</td>\n",
              "      <td>4.981190e+05</td>\n",
              "    </tr>\n",
              "    <tr>\n",
              "      <th>33</th>\n",
              "      <td>Austria</td>\n",
              "      <td>2012</td>\n",
              "      <td>7.981132e+04</td>\n",
              "    </tr>\n",
              "    <tr>\n",
              "      <th>42</th>\n",
              "      <td>Austria</td>\n",
              "      <td>2003</td>\n",
              "      <td>9.178839e+04</td>\n",
              "    </tr>\n",
              "    <tr>\n",
              "      <th>61</th>\n",
              "      <td>Belarus</td>\n",
              "      <td>2012</td>\n",
              "      <td>9.427116e+04</td>\n",
              "    </tr>\n",
              "    <tr>\n",
              "      <th>...</th>\n",
              "      <td>...</td>\n",
              "      <td>...</td>\n",
              "      <td>...</td>\n",
              "    </tr>\n",
              "    <tr>\n",
              "      <th>1134</th>\n",
              "      <td>Ukraine</td>\n",
              "      <td>2003</td>\n",
              "      <td>4.383316e+05</td>\n",
              "    </tr>\n",
              "    <tr>\n",
              "      <th>1153</th>\n",
              "      <td>United Kingdom</td>\n",
              "      <td>2012</td>\n",
              "      <td>5.836525e+05</td>\n",
              "    </tr>\n",
              "    <tr>\n",
              "      <th>1162</th>\n",
              "      <td>United Kingdom</td>\n",
              "      <td>2003</td>\n",
              "      <td>7.062050e+05</td>\n",
              "    </tr>\n",
              "    <tr>\n",
              "      <th>1181</th>\n",
              "      <td>United States of America</td>\n",
              "      <td>2012</td>\n",
              "      <td>6.545969e+06</td>\n",
              "    </tr>\n",
              "    <tr>\n",
              "      <th>1190</th>\n",
              "      <td>United States of America</td>\n",
              "      <td>2003</td>\n",
              "      <td>7.199263e+06</td>\n",
              "    </tr>\n",
              "  </tbody>\n",
              "</table>\n",
              "<p>86 rows × 3 columns</p>\n",
              "</div>"
            ],
            "text/plain": [
              "               country_or_area  year         value\n",
              "5                    Australia  2012  5.406159e+05\n",
              "14                   Australia  2003  4.981190e+05\n",
              "33                     Austria  2012  7.981132e+04\n",
              "42                     Austria  2003  9.178839e+04\n",
              "61                     Belarus  2012  9.427116e+04\n",
              "...                        ...   ...           ...\n",
              "1134                   Ukraine  2003  4.383316e+05\n",
              "1153            United Kingdom  2012  5.836525e+05\n",
              "1162            United Kingdom  2003  7.062050e+05\n",
              "1181  United States of America  2012  6.545969e+06\n",
              "1190  United States of America  2003  7.199263e+06\n",
              "\n",
              "[86 rows x 3 columns]"
            ]
          },
          "metadata": {
            "tags": []
          },
          "execution_count": 81
        }
      ]
    },
    {
      "cell_type": "code",
      "metadata": {
        "id": "N8qn4f1Hw_yg",
        "colab_type": "code",
        "colab": {
          "base_uri": "https://localhost:8080/",
          "height": 402
        },
        "outputId": "a433752d-3572-4669-ced4-03adedef2644"
      },
      "source": [
        "#using with functions\n",
        "\n",
        "def yearup(x):\n",
        "  if x >= 2005:\n",
        "    return \"old\"\n",
        "  else:\n",
        "    return \"new\"\n",
        "\n",
        "\n",
        "df['yearcat'] = df['year'].apply(yearup)\n",
        "df"
      ],
      "execution_count": 83,
      "outputs": [
        {
          "output_type": "execute_result",
          "data": {
            "text/html": [
              "<div>\n",
              "<style scoped>\n",
              "    .dataframe tbody tr th:only-of-type {\n",
              "        vertical-align: middle;\n",
              "    }\n",
              "\n",
              "    .dataframe tbody tr th {\n",
              "        vertical-align: top;\n",
              "    }\n",
              "\n",
              "    .dataframe thead th {\n",
              "        text-align: right;\n",
              "    }\n",
              "</style>\n",
              "<table border=\"1\" class=\"dataframe\">\n",
              "  <thead>\n",
              "    <tr style=\"text-align: right;\">\n",
              "      <th></th>\n",
              "      <th>country_or_area</th>\n",
              "      <th>year</th>\n",
              "      <th>value</th>\n",
              "      <th>yearcat</th>\n",
              "    </tr>\n",
              "  </thead>\n",
              "  <tbody>\n",
              "    <tr>\n",
              "      <th>0</th>\n",
              "      <td>Australia</td>\n",
              "      <td>2017</td>\n",
              "      <td>5.541266e+05</td>\n",
              "      <td>old</td>\n",
              "    </tr>\n",
              "    <tr>\n",
              "      <th>1</th>\n",
              "      <td>Australia</td>\n",
              "      <td>2016</td>\n",
              "      <td>5.467718e+05</td>\n",
              "      <td>old</td>\n",
              "    </tr>\n",
              "    <tr>\n",
              "      <th>2</th>\n",
              "      <td>Australia</td>\n",
              "      <td>2015</td>\n",
              "      <td>5.351737e+05</td>\n",
              "      <td>old</td>\n",
              "    </tr>\n",
              "    <tr>\n",
              "      <th>3</th>\n",
              "      <td>Australia</td>\n",
              "      <td>2014</td>\n",
              "      <td>5.249571e+05</td>\n",
              "      <td>old</td>\n",
              "    </tr>\n",
              "    <tr>\n",
              "      <th>4</th>\n",
              "      <td>Australia</td>\n",
              "      <td>2013</td>\n",
              "      <td>5.304335e+05</td>\n",
              "      <td>old</td>\n",
              "    </tr>\n",
              "    <tr>\n",
              "      <th>...</th>\n",
              "      <td>...</td>\n",
              "      <td>...</td>\n",
              "      <td>...</td>\n",
              "      <td>...</td>\n",
              "    </tr>\n",
              "    <tr>\n",
              "      <th>1199</th>\n",
              "      <td>United States of America</td>\n",
              "      <td>1994</td>\n",
              "      <td>6.624836e+06</td>\n",
              "      <td>new</td>\n",
              "    </tr>\n",
              "    <tr>\n",
              "      <th>1200</th>\n",
              "      <td>United States of America</td>\n",
              "      <td>1993</td>\n",
              "      <td>6.532070e+06</td>\n",
              "      <td>new</td>\n",
              "    </tr>\n",
              "    <tr>\n",
              "      <th>1201</th>\n",
              "      <td>United States of America</td>\n",
              "      <td>1992</td>\n",
              "      <td>6.424934e+06</td>\n",
              "      <td>new</td>\n",
              "    </tr>\n",
              "    <tr>\n",
              "      <th>1202</th>\n",
              "      <td>United States of America</td>\n",
              "      <td>1991</td>\n",
              "      <td>6.315615e+06</td>\n",
              "      <td>new</td>\n",
              "    </tr>\n",
              "    <tr>\n",
              "      <th>1203</th>\n",
              "      <td>United States of America</td>\n",
              "      <td>1990</td>\n",
              "      <td>6.371001e+06</td>\n",
              "      <td>new</td>\n",
              "    </tr>\n",
              "  </tbody>\n",
              "</table>\n",
              "<p>1204 rows × 4 columns</p>\n",
              "</div>"
            ],
            "text/plain": [
              "               country_or_area  year         value yearcat\n",
              "0                    Australia  2017  5.541266e+05     old\n",
              "1                    Australia  2016  5.467718e+05     old\n",
              "2                    Australia  2015  5.351737e+05     old\n",
              "3                    Australia  2014  5.249571e+05     old\n",
              "4                    Australia  2013  5.304335e+05     old\n",
              "...                        ...   ...           ...     ...\n",
              "1199  United States of America  1994  6.624836e+06     new\n",
              "1200  United States of America  1993  6.532070e+06     new\n",
              "1201  United States of America  1992  6.424934e+06     new\n",
              "1202  United States of America  1991  6.315615e+06     new\n",
              "1203  United States of America  1990  6.371001e+06     new\n",
              "\n",
              "[1204 rows x 4 columns]"
            ]
          },
          "metadata": {
            "tags": []
          },
          "execution_count": 83
        }
      ]
    },
    {
      "cell_type": "markdown",
      "metadata": {
        "id": "PPZbR0FFyuCe",
        "colab_type": "text"
      },
      "source": [
        "Visualization"
      ]
    },
    {
      "cell_type": "markdown",
      "metadata": {
        "id": "Cj_ZMTbVy9wf",
        "colab_type": "text"
      },
      "source": [
        "import matplotlib"
      ]
    },
    {
      "cell_type": "code",
      "metadata": {
        "id": "oj9zXsSJyxqb",
        "colab_type": "code",
        "colab": {}
      },
      "source": [
        "import matplotlib.pyplot as plt"
      ],
      "execution_count": 0,
      "outputs": []
    },
    {
      "cell_type": "code",
      "metadata": {
        "id": "1sLgb-UYzAmd",
        "colab_type": "code",
        "colab": {}
      },
      "source": [
        "plt.rcParams.update({'font.size': 20, 'figure.figsize': (10, 8)}) # set font and plot size to be larger\n"
      ],
      "execution_count": 0,
      "outputs": []
    },
    {
      "cell_type": "code",
      "metadata": {
        "id": "ii4s46hMzR0J",
        "colab_type": "code",
        "colab": {
          "base_uri": "https://localhost:8080/",
          "height": 540
        },
        "outputId": "f3a0e4c3-fcfc-410d-8a08-f1d3e637f0d9"
      },
      "source": [
        "df.plot(kind='scatter', x='year',y='value',title='year vs value');"
      ],
      "execution_count": 93,
      "outputs": [
        {
          "output_type": "display_data",
          "data": {
            "image/png": "[encoded data removed]",
            "text/plain": [
              "<Figure size 720x576 with 1 Axes>"
            ]
          },
          "metadata": {
            "tags": [],
            "needs_background": "light"
          }
        }
      ]
    },
    {
      "cell_type": "code",
      "metadata": {
        "id": "EL4EwEa60Uvj",
        "colab_type": "code",
        "colab": {
          "base_uri": "https://localhost:8080/",
          "height": 517
        },
        "outputId": "efe8d2d3-e25b-4802-9d06-2eab34a4e81c"
      },
      "source": [
        "df['year'].plot(kind='hist',title='count');"
      ],
      "execution_count": 94,
      "outputs": [
        {
          "output_type": "display_data",
          "data": {
            "image/png": "[encoded data removed]",
            "text/plain": [
              "<Figure size 720x576 with 1 Axes>"
            ]
          },
          "metadata": {
            "tags": [],
            "needs_background": "light"
          }
        }
      ]
    },
    {
      "cell_type": "code",
      "metadata": {
        "id": "b4C6Hr2Y1CJg",
        "colab_type": "code",
        "colab": {
          "base_uri": "https://localhost:8080/",
          "height": 517
        },
        "outputId": "b834aff2-69fc-4488-b1f5-5a271b35c6ec"
      },
      "source": [
        "df['value'].plot(kind='box',title='value');"
      ],
      "execution_count": 95,
      "outputs": [
        {
          "output_type": "display_data",
          "data": {
            "image/png": "[encoded data removed]",
            "text/plain": [
              "<Figure size 720x576 with 1 Axes>"
            ]
          },
          "metadata": {
            "tags": [],
            "needs_background": "light"
          }
        }
      ]
    },
    {
      "cell_type": "code",
      "metadata": {
        "id": "mGOIpHGM1bcm",
        "colab_type": "code",
        "colab": {
          "base_uri": "https://localhost:8080/",
          "height": 558
        },
        "outputId": "e59fcc52-99b7-4a4b-dede-5179c34238e8"
      },
      "source": [
        "df.boxplot(column='value',by='yearcat');"
      ],
      "execution_count": 98,
      "outputs": [
        {
          "output_type": "display_data",
          "data": {
            "image/png": "[encoded data removed]",
            "text/plain": [
              "<Figure size 720x576 with 1 Axes>"
            ]
          },
          "metadata": {
            "tags": [],
            "needs_background": "light"
          }
        }
      ]
    }
  ]
}